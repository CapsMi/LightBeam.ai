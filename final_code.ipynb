{
 "cells": [
  {
   "cell_type": "markdown",
   "source": [
    "# Assignment 2 For LightBeam.ai\n",
    "-   Design a suitable Data Structure for File System"
   ],
   "metadata": {
    "collapsed": false
   }
  },
  {
   "cell_type": "markdown",
   "source": [
    "### Install Required Packages"
   ],
   "metadata": {
    "collapsed": false
   }
  },
  {
   "cell_type": "code",
   "execution_count": 8,
   "outputs": [],
   "source": [
    "import json"
   ],
   "metadata": {
    "collapsed": false,
    "ExecuteTime": {
     "start_time": "2023-04-13T21:29:02.519857Z",
     "end_time": "2023-04-13T21:29:02.534820Z"
    }
   }
  },
  {
   "cell_type": "code",
   "execution_count": 10,
   "outputs": [],
   "source": [
    "def load_config(config_file):\n",
    "    \"\"\"\n",
    "    This function loads a JSON configuration file and returns the corresponding data structure.\n",
    "    Args:\n",
    "        config_file (str): The path to the JSON configuration file.\n",
    "    Returns:\n",
    "        dict: A dictionary representing the configuration data structure.\n",
    "    \"\"\"\n",
    "    with open(config_file) as f:\n",
    "        return json.load(f)"
   ],
   "metadata": {
    "collapsed": false,
    "ExecuteTime": {
     "start_time": "2023-04-13T21:29:03.724365Z",
     "end_time": "2023-04-13T21:29:03.738326Z"
    }
   }
  },
  {
   "cell_type": "markdown",
   "source": [
    "### Add Folder Function"
   ],
   "metadata": {
    "collapsed": false
   }
  },
  {
   "cell_type": "code",
   "execution_count": 11,
   "outputs": [],
   "source": [
    "class FolderAlreadyExistsError(Exception):\n",
    "    pass\n",
    "class PathNotFoundError(Exception):\n",
    "    pass"
   ],
   "metadata": {
    "collapsed": false,
    "ExecuteTime": {
     "start_time": "2023-04-13T21:29:05.414237Z",
     "end_time": "2023-04-13T21:29:05.422219Z"
    }
   }
  },
  {
   "cell_type": "code",
   "execution_count": 12,
   "outputs": [],
   "source": [
    "def add_folder(tree, path, folder_id, name):\n",
    "    \"\"\"\n",
    "    This function adds a new folder to the directory tree at the specified path.\n",
    "\n",
    "    Args:\n",
    "        tree (dict): The root node of the directory tree.\n",
    "        path (list): A list of folder names representing the path to the parent folder of the new folder.\n",
    "        folder_id (int): The unique identifier for the new folder.\n",
    "        name (str): The name of the new folder.\n",
    "\n",
    "    Raises:\n",
    "        PathNotFoundError: If the specified path does not exist in the directory tree.\n",
    "        FolderAlreadyExistsError: If a folder with the specified name already exists at the specified path.\n",
    "\n",
    "    Returns:\n",
    "        None\n",
    "    \"\"\"\n",
    "    parent = tree\n",
    "    for folder in path:\n",
    "        parent = next((subfolder for subfolder in parent['subfolders'] if subfolder['name'] == folder), None)\n",
    "        if parent is None:\n",
    "            # raise ValueError('Path not found')\n",
    "            raise PathNotFoundError(f\"The path {path} does not exists. Enter the valid path\")\n",
    "    if next((subfolder for subfolder in parent['subfolders'] if subfolder['name'] == name), None) is not None:\n",
    "        raise FolderAlreadyExistsError(f'Folder with name \"{name}\" already exists at path \"{\"/\".join(path)}\"')\n",
    "    new_folder = {'id': folder_id, 'name': name, 'subfolders': []}\n",
    "    parent['subfolders'].append(new_folder)\n",
    "    print(json.dumps(tree))\n"
   ],
   "metadata": {
    "collapsed": false,
    "ExecuteTime": {
     "start_time": "2023-04-13T21:29:06.214730Z",
     "end_time": "2023-04-13T21:29:06.255621Z"
    }
   }
  },
  {
   "cell_type": "markdown",
   "source": [
    "#### Call Add_Folder Function"
   ],
   "metadata": {
    "collapsed": false
   }
  },
  {
   "cell_type": "code",
   "execution_count": 15,
   "outputs": [
    {
     "name": "stdout",
     "output_type": "stream",
     "text": [
      "{\"id\": \"root\", \"name\": \"Root\", \"subfolders\": [{\"id\": 1, \"name\": \"folder1\", \"subfolders\": [{\"id\": 2, \"name\": \"folder2\", \"subfolders\": []}, {\"id\": 3, \"name\": \"folder3\", \"subfolders\": []}, {\"id\": 3, \"name\": \"new_folder\", \"subfolders\": []}]}]}\n"
     ]
    }
   ],
   "source": [
    "# To test the above function\n",
    "tree = load_config('config.json')\n",
    "add_folder(tree, path=['folder1'], folder_id=3, name='new_folder')"
   ],
   "metadata": {
    "collapsed": false,
    "ExecuteTime": {
     "start_time": "2023-04-13T21:30:08.158305Z",
     "end_time": "2023-04-13T21:30:08.198197Z"
    }
   }
  },
  {
   "cell_type": "markdown",
   "source": [
    "### Remove Folder Function"
   ],
   "metadata": {
    "collapsed": false
   }
  },
  {
   "cell_type": "code",
   "execution_count": 16,
   "outputs": [],
   "source": [
    "class FolderNotFoundError(Exception):\n",
    "    pass"
   ],
   "metadata": {
    "collapsed": false,
    "ExecuteTime": {
     "start_time": "2023-04-13T21:31:35.319415Z",
     "end_time": "2023-04-13T21:31:35.329386Z"
    }
   }
  },
  {
   "cell_type": "code",
   "execution_count": 17,
   "outputs": [],
   "source": [
    "def remove_folder(tree, path, name):\n",
    "    \"\"\"\n",
    "    This function removes a folder from the directory tree at the specified path.\n",
    "\n",
    "    Args:\n",
    "        tree (dict): The root node of the directory tree.\n",
    "        path (list): A list of folder names representing the path to the parent folder of the new folder.\n",
    "        folder_id (int): The unique identifier for the new folder.\n",
    "        name (str): The name of the new folder.\n",
    "\n",
    "    Raises:\n",
    "        FolderNotFoundError: If a folder with the specified name does not exists at the specified path.\n",
    "\n",
    "    Returns:\n",
    "        None\n",
    "    \"\"\"\n",
    "    parent = tree\n",
    "    for folder in path:\n",
    "        parent = next((dict_subfolder for dict_subfolder in parent['subfolders'] if\n",
    "                       dict_subfolder['name'] ==\n",
    "                       folder), None)\n",
    "        if parent is None:\n",
    "            raise FolderNotFoundError(f'The Folder {folder} not found')\n",
    "    parent['subfolders'] = [subfolder for subfolder in parent['subfolders'] if subfolder['name'] != name]\n",
    "\n",
    "    print(f\"Updated tree structure is \\n {tree}\")"
   ],
   "metadata": {
    "collapsed": false,
    "ExecuteTime": {
     "start_time": "2023-04-13T21:31:35.848224Z",
     "end_time": "2023-04-13T21:31:35.867170Z"
    }
   }
  },
  {
   "cell_type": "markdown",
   "source": [
    "#### Call Remove Folder Function"
   ],
   "metadata": {
    "collapsed": false
   }
  },
  {
   "cell_type": "code",
   "execution_count": 18,
   "outputs": [
    {
     "name": "stdout",
     "output_type": "stream",
     "text": [
      "Current tree structure is \n",
      " {'id': 'root', 'name': 'Root', 'subfolders': [{'id': 1, 'name': 'folder1', 'subfolders': [{'id': 2, 'name': 'folder2', 'subfolders': []}, {'id': 3, 'name': 'folder3', 'subfolders': []}]}]}\n",
      "********************************************************************************\n",
      "Updated tree structure is \n",
      " {'id': 'root', 'name': 'Root', 'subfolders': [{'id': 1, 'name': 'folder1', 'subfolders': [{'id': 3, 'name': 'folder3', 'subfolders': []}]}]}\n"
     ]
    }
   ],
   "source": [
    "# To test the above function\n",
    "tree = load_config('config.json')\n",
    "print(f\"Current tree structure is \\n {tree}\")\n",
    "print(\"*\" * 80)\n",
    "remove_folder(tree, ['folder1'], 'folder2')"
   ],
   "metadata": {
    "collapsed": false,
    "ExecuteTime": {
     "start_time": "2023-04-13T21:31:40.181038Z",
     "end_time": "2023-04-13T21:31:40.315720Z"
    }
   }
  },
  {
   "cell_type": "markdown",
   "source": [
    "### Fetch Folder path Function"
   ],
   "metadata": {
    "collapsed": false
   }
  },
  {
   "cell_type": "code",
   "execution_count": 19,
   "outputs": [],
   "source": [
    "class FolderIdNotFoundError(Exception):\n",
    "    pass"
   ],
   "metadata": {
    "collapsed": false,
    "ExecuteTime": {
     "start_time": "2023-04-13T21:32:29.545460Z",
     "end_time": "2023-04-13T21:32:29.554435Z"
    }
   }
  },
  {
   "cell_type": "code",
   "execution_count": 21,
   "outputs": [],
   "source": [
    "def fetch_folder_path(tree, folder_id):\n",
    "    \"\"\"\n",
    "    This function return a path from the directory tree of the specified folder.\n",
    "\n",
    "    Args:\n",
    "        tree (dict): The root node of the directory tree.\n",
    "        folder_id (int): The unique identifier for the new folder.\n",
    "\n",
    "    Raises:\n",
    "        FolderNotFoundError: If a folder with the specified name does not exists at the specified path.\n",
    "\n",
    "    Returns:\n",
    "        path (list)\n",
    "    \"\"\"\n",
    "    def _traverse(node, path):\n",
    "        if node['id'] == folder_id:\n",
    "            return [tree['name']] + path\n",
    "        for subfolder in node['subfolders']:\n",
    "            result = _traverse(subfolder, path + [subfolder['name']])\n",
    "            if result:\n",
    "                return result\n",
    "        return None\n",
    "\n",
    "    path = _traverse(tree, [])\n",
    "\n",
    "    if path is None:\n",
    "        raise FolderIdNotFoundError(f'Folder ID {folder_id} not found')\n",
    "    return path"
   ],
   "metadata": {
    "collapsed": false,
    "ExecuteTime": {
     "start_time": "2023-04-13T21:32:46.978233Z",
     "end_time": "2023-04-13T21:32:47.270451Z"
    }
   }
  },
  {
   "cell_type": "markdown",
   "source": [
    "#### Call fetch path function"
   ],
   "metadata": {
    "collapsed": false
   }
  },
  {
   "cell_type": "code",
   "execution_count": 25,
   "outputs": [
    {
     "name": "stdout",
     "output_type": "stream",
     "text": [
      "********************************************************************************\n",
      " The path is \n",
      " Root/folder1/folder2\n",
      "********************************************************************************\n"
     ]
    }
   ],
   "source": [
    "# To test the above function\n",
    "tree = load_config('config.json')\n",
    "path = fetch_folder_path(tree, 2)\n",
    "print(\"*\" * 80)\n",
    "print(f\" The path is \\n {'/'.join(path)}\")\n",
    "print(\"*\" * 80)"
   ],
   "metadata": {
    "collapsed": false,
    "ExecuteTime": {
     "start_time": "2023-04-13T21:33:24.992926Z",
     "end_time": "2023-04-13T21:33:25.010879Z"
    }
   }
  },
  {
   "cell_type": "markdown",
   "source": [
    "### Update_folder_name"
   ],
   "metadata": {
    "collapsed": false
   }
  },
  {
   "cell_type": "code",
   "execution_count": 26,
   "outputs": [],
   "source": [
    "def update_folder_name(tree, folder_id, new_name):\n",
    "    \"\"\"\n",
    "        This function updates the name of the specified folder in a directory tree.\n",
    "        Args:\n",
    "            tree (dict): The root node of the directory tree.\n",
    "            folder_id (int): The unique identifier for the new folder.\n",
    "            new_name (str): The new name of the folder.\n",
    "        Raises:\n",
    "            FolderNotFoundError: If a folder with the specified name does not exists at the specified path.\n",
    "        Returns:\n",
    "            None\n",
    "        Functionality:\n",
    "            The function first calls the fetch_folder_path() function to get the path of the folder with the specified ID. If the folder is not found, it raises a FolderNotFoundError. Otherwise, it recursively traverses the directory tree to find the specified folder and updates its name. The updated tree structure is then printed.\n",
    "    \"\"\"\n",
    "\n",
    "    path = fetch_folder_path(tree, folder_id)\n",
    "    if path is None:\n",
    "        raise FolderNotFoundError('Folder not found')\n",
    "\n",
    "    def _traverse(node):\n",
    "        if node['id'] == folder_id:\n",
    "            node['name'] = new_name\n",
    "            return\n",
    "        for subfolder in node['subfolders']:\n",
    "            _traverse(subfolder)\n",
    "\n",
    "    _traverse(tree)\n",
    "    print(\"*\" * 80)\n",
    "    print(f'Folder name updated from {path[-1]} to {new_name}')\n",
    "    print(\"*\" * 80)\n",
    "    print(f\"Updated tree structure is \\n {tree}\")\n",
    "    print(\"*\" * 80)\n"
   ],
   "metadata": {
    "collapsed": false,
    "ExecuteTime": {
     "start_time": "2023-04-13T21:33:27.061026Z",
     "end_time": "2023-04-13T21:33:27.081970Z"
    }
   }
  },
  {
   "cell_type": "code",
   "execution_count": 27,
   "outputs": [
    {
     "name": "stdout",
     "output_type": "stream",
     "text": [
      "Current tree structure is \n",
      " {'id': 'root', 'name': 'Root', 'subfolders': [{'id': 1, 'name': 'folder1', 'subfolders': [{'id': 2, 'name': 'folder2', 'subfolders': []}, {'id': 3, 'name': 'folder3', 'subfolders': []}]}]}\n",
      "********************************************************************************\n",
      "Folder name updated from folder1 to new_name_folder1\n",
      "********************************************************************************\n",
      "Updated tree structure is \n",
      " {'id': 'root', 'name': 'Root', 'subfolders': [{'id': 1, 'name': 'new_name_folder1', 'subfolders': [{'id': 2, 'name': 'folder2', 'subfolders': []}, {'id': 3, 'name': 'folder3', 'subfolders': []}]}]}\n",
      "********************************************************************************\n"
     ]
    }
   ],
   "source": [
    "tree = load_config('config.json')\n",
    "print(f\"Current tree structure is \\n {tree}\")\n",
    "update_folder_name(tree, 1, 'new_name_folder1')\n"
   ],
   "metadata": {
    "collapsed": false,
    "ExecuteTime": {
     "start_time": "2023-04-13T21:33:40.934692Z",
     "end_time": "2023-04-13T21:33:40.962616Z"
    }
   }
  },
  {
   "cell_type": "markdown",
   "source": [],
   "metadata": {
    "collapsed": false
   }
  }
 ],
 "metadata": {
  "kernelspec": {
   "display_name": "Python 3",
   "language": "python",
   "name": "python3"
  },
  "language_info": {
   "codemirror_mode": {
    "name": "ipython",
    "version": 2
   },
   "file_extension": ".py",
   "mimetype": "text/x-python",
   "name": "python",
   "nbconvert_exporter": "python",
   "pygments_lexer": "ipython2",
   "version": "2.7.6"
  }
 },
 "nbformat": 4,
 "nbformat_minor": 0
}
